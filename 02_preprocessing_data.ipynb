{
 "cells": [
  {
   "cell_type": "markdown",
   "metadata": {},
   "source": [
    "## Imports"
   ]
  },
  {
   "cell_type": "code",
   "execution_count": 1,
   "metadata": {},
   "outputs": [],
   "source": [
    "from IPython.display import display\n",
    "import pandas as pd\n",
    "import re \n",
    "import string\n",
    "import matplotlib.pyplot as plt\n",
    "\n",
    "from nltk.tokenize import word_tokenize\n",
    "from nltk.stem.isri import ISRIStemmer\n",
    "\n",
    "%matplotlib inline"
   ]
  },
  {
   "cell_type": "code",
   "execution_count": 2,
   "metadata": {},
   "outputs": [],
   "source": [
    "pd.set_option('display.max_colwidth', None)"
   ]
  },
  {
   "cell_type": "markdown",
   "metadata": {},
   "source": [
    "## Read "
   ]
  },
  {
   "cell_type": "code",
   "execution_count": 3,
   "metadata": {},
   "outputs": [],
   "source": [
    "fully_df = pd.read_excel('full_dialect_dataset.xlsx',index_col=0)"
   ]
  },
  {
   "cell_type": "code",
   "execution_count": 4,
   "metadata": {},
   "outputs": [
    {
     "data": {
      "text/plain": [
       "458197"
      ]
     },
     "execution_count": 4,
     "metadata": {},
     "output_type": "execute_result"
    }
   ],
   "source": [
    "len(fully_df)"
   ]
  },
  {
   "cell_type": "code",
   "execution_count": 5,
   "metadata": {},
   "outputs": [],
   "source": [
    "fully_cleaned_df = fully_df.copy()"
   ]
  },
  {
   "cell_type": "markdown",
   "metadata": {},
   "source": [
    "## EDA"
   ]
  },
  {
   "cell_type": "code",
   "execution_count": 6,
   "metadata": {},
   "outputs": [
    {
     "data": {
      "text/plain": [
       "0                                                                            @Nw8ieJUwaCAAreT لكن بالنهاية .. ينتفض .. يغير .\n",
       "1    @7zNqXP0yrODdRjK يعني هذا محسوب على البشر .. حيونه ووحشيه .. وتطلبون من الغرب يحترمكم ويؤمن بدينكم ولاينعتكم بالإرهاب ..\n",
       "2                                                                                             @KanaanRema مبين من كلامه خليجي\n",
       "3                                                                                  @HAIDER76128900 يسلملي مرورك وروحك الحلوه💐\n",
       "4                                                                                          @hmo2406 وين هل الغيبه  اخ محمد 🌸🌺\n",
       "Name: text, dtype: object"
      ]
     },
     "execution_count": 6,
     "metadata": {},
     "output_type": "execute_result"
    }
   ],
   "source": [
    "fully_cleaned_df.text.head(5)"
   ]
  },
  {
   "cell_type": "code",
   "execution_count": 7,
   "metadata": {},
   "outputs": [
    {
     "data": {
      "text/plain": [
       "458182    @sweet_zooz يمكن تعرفين بخورة السوق امس او اليوم كانت حاطه فيديو الى بنت لسانها طويل انا بديت رايي في الفيديو ماعجبها كلامي بلكتني شكلها الناس ماتستحمل كلام يعارض فكرها 😅\n",
       "458183                                                                                                                      انتي ماشفتي كلمة على صارت ع بس 😅 https://t.co/xQnQ7KjuGv\n",
       "458184                                                                                                                                            @P_ameerah وين هالحزه شكلها باجه 😅\n",
       "458185                                                                    @Bentelordon ما ادل بالضبط انا سالت وخبروني ورحت ع الوصف لقيته انا ساكن خلف السي تاون اروح له مشي 🚶‍♂️🚶‍♂️\n",
       "458186                                                                                                                                   @Iraqia__asylah احنا صاحيين مو نايمين 🙋‍♂️😅\n",
       "458187                                                                         @Bentelordon انا ااكلك رز باللحمه والله نسيت اسم المنطقه اللي بيها مطعم اليمن السعيد باخذه عليها 😂😂😂😂\n",
       "458188                                                                            @bhmesh @Jordaniancitizn @Ahmadkh51210191 يجون يشوفون اللي عندنا حتى باب السياره له ناس تفتح لهم 😅\n",
       "458189                                                                                                                                     @2PLOLymCD4JKee1 مو متعود ع الرومنسية 😂😂😂\n",
       "458190                                                                                                                                 @bhmesh عيونك ما ادري شقول فيا بسخليها خليها😅\n",
       "458191                                                                                                                    @_Bakhora @JacobWrites503 اي والله صدق مايعرف يتكلم ويناقش\n",
       "458192                                                                                                                                         @Al_mhbaa_7 مبسوطين منك اللي باسطانا😅\n",
       "458193                                                                                                                                  @Zzainabali @P_ameerah والله ماينده ابش يختي\n",
       "458194                                                                                                     @Al_mhbaa_7 شو عملنا لك حنا تهربي مننا احنا مساكين ليش بتعملي هيك فينا 😔😔\n",
       "458195                                                                                                                                   @haneenalmwla الله يبارك فيها وبالعافيه 😋😋😋\n",
       "458196                                                                                                                                     @jolnar121 السحله ضيفي ي بتطلع لك سحليه😅😅\n",
       "Name: text, dtype: object"
      ]
     },
     "execution_count": 7,
     "metadata": {},
     "output_type": "execute_result"
    }
   ],
   "source": [
    "fully_cleaned_df.text.tail(15)"
   ]
  },
  {
   "cell_type": "code",
   "execution_count": 8,
   "metadata": {},
   "outputs": [
    {
     "data": {
      "text/plain": [
       "215983                                                                   #صداره_بس\\nصدارة يعني فخامة ماتليق الا بزعيم اسيا💙\\nمع شوية صياح وبكاء من الفقراوية زادت حلاوة الهاشتاق🤣\\nواحد قهوة يامعلم https://t.co/BQJoV8tUAL\n",
       "427363                                                                                                                                                                       @SAUDI_POWER0 يمه فديت خشمه انا هذيله الرجال 👍\n",
       "361252                                                                                                                                                 مرات تحس انك زعلان بس فيه شي يمنعك تقول انا زعلان خصوصاً من شخص معين\n",
       "203801                                                                                                                                @h0540309919 @kholood_26 هذا اللي حاصل المسحل ينفذ اجندة اللوبي الازرق\\nبقيادة الهيئة\n",
       "32019                                                                                                                                                                         @hend_omran في الصباح تقول حطني معاك في العمل\n",
       "441140                                                                                                                                                       @_dalal92_ ذو القعدة حق القعدة\\nيعني راحة ماتسوي شي غير القعدة\n",
       "62296                                                                                                                                                                                           ربي لك الحمد يارب تكمل يارب\n",
       "349483                                                                                                                                                        @hasanabualhasan رجل بمكانك ومكانتك المفروض بعيد عن هالتغريده\n",
       "259040                                                السيرش بتاع تويتر بيستنى اما تكتب الحاجة ال بتدور عليها وتظهرلك واول ما تمد ايدك تدوس عليها يروح مطلع لك قايمة تانيه توديك فالشلاحات ، الحوار ده بلبسه 4556543 تقريبا\n",
       "170671                                                                                                                                                     عن الناس الي بيحكوا بسرعه بسرعه وبكونوا ممتعين \\nما اسكاهم &lt;3\n",
       "203542    @The_Saudi_girl @MBS_SAMIALGHMDI @Xwjd9ZtRCd182mw @tT7WVj4plxSXiPV @hhh_99 @Ragooda___ انا ياربع ابا تاخذون علومي\\nتو مصليه بلحرم وقسام ب الله اني صايمه وناسيه فطوري بلبيت  اتحدا واحد منكم يعلمني من الي فطرتني\n",
       "325371                                                                                                                                           @HayatChamas يا رب ...ادعولنااا من شوي نزل قذيفتين كتير كانو قراب مننا ...\n",
       "376906                                                                                                                                                                        @alsawsan21  الرابط اللي قبل الكلام الأخ ذياب\n",
       "176881                                                                                                                                               @IB2HGmrEOgw86Ks ما أنا أخذتها ريلاكس عالآخر بس حبيت أشاركم الموقف 😂😂😂\n",
       "162988                                                                                                                    @youssef_bajjash @ammar_alamir يزم الله يكثر من امثالك جد ومنكم نستفيد ماشاءلله عليك قدوة اها مكة\n",
       "Name: text, dtype: object"
      ]
     },
     "execution_count": 8,
     "metadata": {},
     "output_type": "execute_result"
    }
   ],
   "source": [
    "#I run it multiple time to explore more\n",
    "fully_cleaned_df.text.sample(15)"
   ]
  },
  {
   "cell_type": "markdown",
   "metadata": {},
   "source": [
    "Is dataset contains nulls ?"
   ]
  },
  {
   "cell_type": "code",
   "execution_count": 9,
   "metadata": {},
   "outputs": [
    {
     "data": {
      "text/plain": [
       "id         0\n",
       "dialect    0\n",
       "text       0\n",
       "dtype: int64"
      ]
     },
     "execution_count": 9,
     "metadata": {},
     "output_type": "execute_result"
    }
   ],
   "source": [
    "fully_cleaned_df.isnull().sum()"
   ]
  },
  {
   "cell_type": "markdown",
   "metadata": {},
   "source": [
    "What is the most frequent dialects in our dataset?"
   ]
  },
  {
   "cell_type": "code",
   "execution_count": 10,
   "metadata": {},
   "outputs": [
    {
     "data": {
      "image/png": "[encoded data removed]",
      "text/plain": [
       "<Figure size 576x432 with 1 Axes>"
      ]
     },
     "metadata": {
      "needs_background": "light"
     },
     "output_type": "display_data"
    }
   ],
   "source": [
    "plt.figure(figsize=(8,6))\n",
    "fully_cleaned_df.groupby('dialect')['id'].count().plot.bar()\n",
    "# fully_cleaned_df.dialect.hist(bins=16)\n",
    "plt.title('Dialects', fontsize=20)\n",
    "plt.ylabel('# of tweets', fontsize=16)\n",
    "\n",
    "plt.grid(b=False, axis='x')\n",
    "plt.show()"
   ]
  },
  {
   "cell_type": "code",
   "execution_count": 11,
   "metadata": {},
   "outputs": [
    {
     "data": {
      "text/plain": [
       "dialect\n",
       "EG    57636\n",
       "PL    43742\n",
       "KW    42109\n",
       "LY    36499\n",
       "QA    31069\n",
       "JO    27921\n",
       "LB    27617\n",
       "SA    26832\n",
       "AE    26296\n",
       "BH    26292\n",
       "OM    19116\n",
       "SY    16242\n",
       "DZ    16183\n",
       "IQ    15497\n",
       "SD    14434\n",
       "MA    11539\n",
       "YE     9927\n",
       "TN     9246\n",
       "Name: id, dtype: int64"
      ]
     },
     "execution_count": 11,
     "metadata": {},
     "output_type": "execute_result"
    }
   ],
   "source": [
    "fully_cleaned_df.groupby('dialect')['id'].count().sort_values(ascending=False)"
   ]
  },
  {
   "cell_type": "markdown",
   "metadata": {},
   "source": [
    "what is the variaty in length of tweets ?"
   ]
  },
  {
   "cell_type": "code",
   "execution_count": 12,
   "metadata": {},
   "outputs": [
    {
     "data": {
      "image/png": "[encoded data removed]",
      "text/plain": [
       "<Figure size 432x288 with 1 Axes>"
      ]
     },
     "metadata": {
      "needs_background": "light"
     },
     "output_type": "display_data"
    }
   ],
   "source": [
    "fully_cleaned_df['tweet_len'] = fully_cleaned_df.text.apply(lambda x: len(str(x)))\n",
    "fully_cleaned_df['tweet_len'].hist()\n",
    "plt.title('Tweet Length for All Tweets')\n",
    "plt.xlabel('Tweet Lengh')\n",
    "plt.ylabel('# of Tweets')\n",
    "plt.show()"
   ]
  },
  {
   "cell_type": "markdown",
   "metadata": {},
   "source": [
    "- From the distrubtion we need to check if there are tweets with range 0 more more"
   ]
  },
  {
   "cell_type": "code",
   "execution_count": 13,
   "metadata": {},
   "outputs": [
    {
     "data": {
      "text/html": [
       "<div>\n",
       "<style scoped>\n",
       "    .dataframe tbody tr th:only-of-type {\n",
       "        vertical-align: middle;\n",
       "    }\n",
       "\n",
       "    .dataframe tbody tr th {\n",
       "        vertical-align: top;\n",
       "    }\n",
       "\n",
       "    .dataframe thead th {\n",
       "        text-align: right;\n",
       "    }\n",
       "</style>\n",
       "<table border=\"1\" class=\"dataframe\">\n",
       "  <thead>\n",
       "    <tr style=\"text-align: right;\">\n",
       "      <th></th>\n",
       "      <th>id</th>\n",
       "      <th>dialect</th>\n",
       "      <th>text</th>\n",
       "      <th>tweet_len</th>\n",
       "    </tr>\n",
       "  </thead>\n",
       "  <tbody>\n",
       "    <tr>\n",
       "      <th>38123</th>\n",
       "      <td>9.633604e+17</td>\n",
       "      <td>LY</td>\n",
       "      <td>0</td>\n",
       "      <td>1</td>\n",
       "    </tr>\n",
       "    <tr>\n",
       "      <th>38332</th>\n",
       "      <td>8.801287e+17</td>\n",
       "      <td>LY</td>\n",
       "      <td>0</td>\n",
       "      <td>1</td>\n",
       "    </tr>\n",
       "    <tr>\n",
       "      <th>77456</th>\n",
       "      <td>2.749294e+17</td>\n",
       "      <td>QA</td>\n",
       "      <td>0</td>\n",
       "      <td>1</td>\n",
       "    </tr>\n",
       "    <tr>\n",
       "      <th>93579</th>\n",
       "      <td>1.086033e+18</td>\n",
       "      <td>PL</td>\n",
       "      <td>و\\nو\\nو\\nو\\nو</td>\n",
       "      <td>9</td>\n",
       "    </tr>\n",
       "    <tr>\n",
       "      <th>95926</th>\n",
       "      <td>1.054436e+18</td>\n",
       "      <td>PL</td>\n",
       "      <td>0</td>\n",
       "      <td>1</td>\n",
       "    </tr>\n",
       "    <tr>\n",
       "      <th>96200</th>\n",
       "      <td>1.020362e+18</td>\n",
       "      <td>PL</td>\n",
       "      <td>0</td>\n",
       "      <td>1</td>\n",
       "    </tr>\n",
       "    <tr>\n",
       "      <th>96223</th>\n",
       "      <td>9.997328e+17</td>\n",
       "      <td>PL</td>\n",
       "      <td>0</td>\n",
       "      <td>1</td>\n",
       "    </tr>\n",
       "    <tr>\n",
       "      <th>96247</th>\n",
       "      <td>9.863443e+17</td>\n",
       "      <td>PL</td>\n",
       "      <td>0</td>\n",
       "      <td>1</td>\n",
       "    </tr>\n",
       "    <tr>\n",
       "      <th>96270</th>\n",
       "      <td>9.924735e+17</td>\n",
       "      <td>PL</td>\n",
       "      <td>0</td>\n",
       "      <td>1</td>\n",
       "    </tr>\n",
       "    <tr>\n",
       "      <th>96308</th>\n",
       "      <td>9.970442e+17</td>\n",
       "      <td>PL</td>\n",
       "      <td>0</td>\n",
       "      <td>1</td>\n",
       "    </tr>\n",
       "    <tr>\n",
       "      <th>96329</th>\n",
       "      <td>9.631049e+17</td>\n",
       "      <td>PL</td>\n",
       "      <td>0</td>\n",
       "      <td>1</td>\n",
       "    </tr>\n",
       "    <tr>\n",
       "      <th>96801</th>\n",
       "      <td>9.265319e+17</td>\n",
       "      <td>PL</td>\n",
       "      <td>0</td>\n",
       "      <td>1</td>\n",
       "    </tr>\n",
       "    <tr>\n",
       "      <th>97954</th>\n",
       "      <td>1.039585e+18</td>\n",
       "      <td>PL</td>\n",
       "      <td>0</td>\n",
       "      <td>1</td>\n",
       "    </tr>\n",
       "    <tr>\n",
       "      <th>98238</th>\n",
       "      <td>9.566247e+17</td>\n",
       "      <td>PL</td>\n",
       "      <td>0</td>\n",
       "      <td>1</td>\n",
       "    </tr>\n",
       "    <tr>\n",
       "      <th>130900</th>\n",
       "      <td>5.817548e+17</td>\n",
       "      <td>SY</td>\n",
       "      <td>0</td>\n",
       "      <td>1</td>\n",
       "    </tr>\n",
       "    <tr>\n",
       "      <th>135609</th>\n",
       "      <td>1.155026e+18</td>\n",
       "      <td>SY</td>\n",
       "      <td>0</td>\n",
       "      <td>1</td>\n",
       "    </tr>\n",
       "    <tr>\n",
       "      <th>160200</th>\n",
       "      <td>8.561041e+17</td>\n",
       "      <td>JO</td>\n",
       "      <td>ا.د \\nم.ي</td>\n",
       "      <td>8</td>\n",
       "    </tr>\n",
       "    <tr>\n",
       "      <th>160370</th>\n",
       "      <td>8.210940e+17</td>\n",
       "      <td>JO</td>\n",
       "      <td>ي.ن.ا.ت</td>\n",
       "      <td>7</td>\n",
       "    </tr>\n",
       "    <tr>\n",
       "      <th>259071</th>\n",
       "      <td>9.666166e+17</td>\n",
       "      <td>EG</td>\n",
       "      <td>0</td>\n",
       "      <td>1</td>\n",
       "    </tr>\n",
       "    <tr>\n",
       "      <th>259263</th>\n",
       "      <td>9.391868e+17</td>\n",
       "      <td>EG</td>\n",
       "      <td>0</td>\n",
       "      <td>1</td>\n",
       "    </tr>\n",
       "    <tr>\n",
       "      <th>259355</th>\n",
       "      <td>9.304207e+17</td>\n",
       "      <td>EG</td>\n",
       "      <td>0</td>\n",
       "      <td>1</td>\n",
       "    </tr>\n",
       "    <tr>\n",
       "      <th>267858</th>\n",
       "      <td>1.106101e+18</td>\n",
       "      <td>EG</td>\n",
       "      <td>0</td>\n",
       "      <td>1</td>\n",
       "    </tr>\n",
       "    <tr>\n",
       "      <th>267873</th>\n",
       "      <td>1.109178e+18</td>\n",
       "      <td>EG</td>\n",
       "      <td>0</td>\n",
       "      <td>1</td>\n",
       "    </tr>\n",
       "    <tr>\n",
       "      <th>279302</th>\n",
       "      <td>1.022880e+18</td>\n",
       "      <td>EG</td>\n",
       "      <td>0</td>\n",
       "      <td>1</td>\n",
       "    </tr>\n",
       "    <tr>\n",
       "      <th>284501</th>\n",
       "      <td>1.120432e+18</td>\n",
       "      <td>EG</td>\n",
       "      <td>0</td>\n",
       "      <td>1</td>\n",
       "    </tr>\n",
       "    <tr>\n",
       "      <th>284998</th>\n",
       "      <td>8.718564e+17</td>\n",
       "      <td>EG</td>\n",
       "      <td>0</td>\n",
       "      <td>1</td>\n",
       "    </tr>\n",
       "    <tr>\n",
       "      <th>287251</th>\n",
       "      <td>8.812791e+17</td>\n",
       "      <td>EG</td>\n",
       "      <td>0</td>\n",
       "      <td>1</td>\n",
       "    </tr>\n",
       "    <tr>\n",
       "      <th>291094</th>\n",
       "      <td>1.137072e+18</td>\n",
       "      <td>EG</td>\n",
       "      <td>0</td>\n",
       "      <td>1</td>\n",
       "    </tr>\n",
       "    <tr>\n",
       "      <th>291398</th>\n",
       "      <td>9.869393e+17</td>\n",
       "      <td>EG</td>\n",
       "      <td>0</td>\n",
       "      <td>1</td>\n",
       "    </tr>\n",
       "    <tr>\n",
       "      <th>291504</th>\n",
       "      <td>9.628267e+17</td>\n",
       "      <td>EG</td>\n",
       "      <td>0</td>\n",
       "      <td>1</td>\n",
       "    </tr>\n",
       "    <tr>\n",
       "      <th>291739</th>\n",
       "      <td>9.366289e+17</td>\n",
       "      <td>EG</td>\n",
       "      <td>0</td>\n",
       "      <td>1</td>\n",
       "    </tr>\n",
       "    <tr>\n",
       "      <th>291777</th>\n",
       "      <td>8.848487e+17</td>\n",
       "      <td>EG</td>\n",
       "      <td>0</td>\n",
       "      <td>1</td>\n",
       "    </tr>\n",
       "    <tr>\n",
       "      <th>291789</th>\n",
       "      <td>8.878742e+17</td>\n",
       "      <td>EG</td>\n",
       "      <td>0</td>\n",
       "      <td>1</td>\n",
       "    </tr>\n",
       "    <tr>\n",
       "      <th>291870</th>\n",
       "      <td>8.533747e+17</td>\n",
       "      <td>EG</td>\n",
       "      <td>0</td>\n",
       "      <td>1</td>\n",
       "    </tr>\n",
       "    <tr>\n",
       "      <th>291916</th>\n",
       "      <td>8.605913e+17</td>\n",
       "      <td>EG</td>\n",
       "      <td>0</td>\n",
       "      <td>1</td>\n",
       "    </tr>\n",
       "    <tr>\n",
       "      <th>292006</th>\n",
       "      <td>8.380485e+17</td>\n",
       "      <td>EG</td>\n",
       "      <td>0</td>\n",
       "      <td>1</td>\n",
       "    </tr>\n",
       "    <tr>\n",
       "      <th>292013</th>\n",
       "      <td>8.402861e+17</td>\n",
       "      <td>EG</td>\n",
       "      <td>0</td>\n",
       "      <td>1</td>\n",
       "    </tr>\n",
       "    <tr>\n",
       "      <th>292063</th>\n",
       "      <td>8.046576e+17</td>\n",
       "      <td>EG</td>\n",
       "      <td>0</td>\n",
       "      <td>1</td>\n",
       "    </tr>\n",
       "    <tr>\n",
       "      <th>292135</th>\n",
       "      <td>8.188111e+17</td>\n",
       "      <td>EG</td>\n",
       "      <td>0</td>\n",
       "      <td>1</td>\n",
       "    </tr>\n",
       "    <tr>\n",
       "      <th>292552</th>\n",
       "      <td>1.159629e+18</td>\n",
       "      <td>EG</td>\n",
       "      <td>0</td>\n",
       "      <td>1</td>\n",
       "    </tr>\n",
       "    <tr>\n",
       "      <th>296152</th>\n",
       "      <td>1.073175e+18</td>\n",
       "      <td>EG</td>\n",
       "      <td>0</td>\n",
       "      <td>1</td>\n",
       "    </tr>\n",
       "    <tr>\n",
       "      <th>382867</th>\n",
       "      <td>3.687356e+17</td>\n",
       "      <td>OM</td>\n",
       "      <td>0</td>\n",
       "      <td>1</td>\n",
       "    </tr>\n",
       "    <tr>\n",
       "      <th>394008</th>\n",
       "      <td>1.175119e+18</td>\n",
       "      <td>SD</td>\n",
       "      <td>0</td>\n",
       "      <td>1</td>\n",
       "    </tr>\n",
       "    <tr>\n",
       "      <th>395603</th>\n",
       "      <td>1.162432e+18</td>\n",
       "      <td>SD</td>\n",
       "      <td>0</td>\n",
       "      <td>1</td>\n",
       "    </tr>\n",
       "    <tr>\n",
       "      <th>406320</th>\n",
       "      <td>1.160884e+18</td>\n",
       "      <td>AE</td>\n",
       "      <td>0</td>\n",
       "      <td>1</td>\n",
       "    </tr>\n",
       "  </tbody>\n",
       "</table>\n",
       "</div>"
      ],
      "text/plain": [
       "                  id dialect           text  tweet_len\n",
       "38123   9.633604e+17      LY              0          1\n",
       "38332   8.801287e+17      LY              0          1\n",
       "77456   2.749294e+17      QA              0          1\n",
       "93579   1.086033e+18      PL  و\\nو\\nو\\nو\\nو          9\n",
       "95926   1.054436e+18      PL              0          1\n",
       "96200   1.020362e+18      PL              0          1\n",
       "96223   9.997328e+17      PL              0          1\n",
       "96247   9.863443e+17      PL              0          1\n",
       "96270   9.924735e+17      PL              0          1\n",
       "96308   9.970442e+17      PL              0          1\n",
       "96329   9.631049e+17      PL              0          1\n",
       "96801   9.265319e+17      PL              0          1\n",
       "97954   1.039585e+18      PL              0          1\n",
       "98238   9.566247e+17      PL              0          1\n",
       "130900  5.817548e+17      SY              0          1\n",
       "135609  1.155026e+18      SY              0          1\n",
       "160200  8.561041e+17      JO      ا.د \\nم.ي          8\n",
       "160370  8.210940e+17      JO        ي.ن.ا.ت          7\n",
       "259071  9.666166e+17      EG              0          1\n",
       "259263  9.391868e+17      EG              0          1\n",
       "259355  9.304207e+17      EG              0          1\n",
       "267858  1.106101e+18      EG              0          1\n",
       "267873  1.109178e+18      EG              0          1\n",
       "279302  1.022880e+18      EG              0          1\n",
       "284501  1.120432e+18      EG              0          1\n",
       "284998  8.718564e+17      EG              0          1\n",
       "287251  8.812791e+17      EG              0          1\n",
       "291094  1.137072e+18      EG              0          1\n",
       "291398  9.869393e+17      EG              0          1\n",
       "291504  9.628267e+17      EG              0          1\n",
       "291739  9.366289e+17      EG              0          1\n",
       "291777  8.848487e+17      EG              0          1\n",
       "291789  8.878742e+17      EG              0          1\n",
       "291870  8.533747e+17      EG              0          1\n",
       "291916  8.605913e+17      EG              0          1\n",
       "292006  8.380485e+17      EG              0          1\n",
       "292013  8.402861e+17      EG              0          1\n",
       "292063  8.046576e+17      EG              0          1\n",
       "292135  8.188111e+17      EG              0          1\n",
       "292552  1.159629e+18      EG              0          1\n",
       "296152  1.073175e+18      EG              0          1\n",
       "382867  3.687356e+17      OM              0          1\n",
       "394008  1.175119e+18      SD              0          1\n",
       "395603  1.162432e+18      SD              0          1\n",
       "406320  1.160884e+18      AE              0          1"
      ]
     },
     "execution_count": 13,
     "metadata": {},
     "output_type": "execute_result"
    }
   ],
   "source": [
    "fully_cleaned_df[ fully_cleaned_df.tweet_len <= 10]"
   ]
  },
  {
   "cell_type": "markdown",
   "metadata": {},
   "source": [
    "- There are 42 tweets which has less than 10 in length so we can drop them, because I think they are not meaningful"
   ]
  },
  {
   "cell_type": "code",
   "execution_count": 14,
   "metadata": {},
   "outputs": [],
   "source": [
    "few_char_tweets = fully_cleaned_df[ fully_cleaned_df.tweet_len <= 10].index\n",
    "fully_cleaned_df.drop(few_char_tweets,inplace=True)"
   ]
  },
  {
   "cell_type": "code",
   "execution_count": 15,
   "metadata": {},
   "outputs": [
    {
     "data": {
      "text/plain": [
       "0"
      ]
     },
     "execution_count": 15,
     "metadata": {},
     "output_type": "execute_result"
    }
   ],
   "source": [
    "#check dropping\n",
    "len(fully_cleaned_df[ fully_cleaned_df.tweet_len <= 10])"
   ]
  },
  {
   "cell_type": "markdown",
   "metadata": {},
   "source": [
    "## Preprocessing Steps\n",
    "- We need to :\n",
    "    - remove @username  (which may contains one or more _)\n",
    "    - remove  links\n",
    "    - remove any special characters (, ! . ? ...)\n",
    "    - remove any english words (There may be 1 or 2 english word per tweet, so I think it's not usfel for model context)\n",
    "    - remove \\n new line\n",
    "    - #### return here to try to remove diacritics\n",
    "\n",
    "    These steps based on exploration step and may be we must need more steps that not appear at this moment"
   ]
  },
  {
   "cell_type": "markdown",
   "metadata": {},
   "source": [
    "### step 1: cleaning with regax"
   ]
  },
  {
   "cell_type": "code",
   "execution_count": 26,
   "metadata": {},
   "outputs": [],
   "source": [
    "punctuation = \"!”$%&\\’()*+,-./#:;<=>؟?[\\\\]^_`{|}~•@،\"\n",
    "def preprocessing(text,punctuation=punctuation):\n",
    "    text = str(text)\n",
    "    #remove mention\n",
    "    text = re.sub(r'@[_?A-Z_?a-z_?0-9_?]+', '', text)\n",
    "    #remove links\n",
    "    text = re.sub(r\"https?:\\/\\/\\S+\", '', text)\n",
    "    #remove \\n\n",
    "    text = re.sub(r\"[\\n?]\", ' ', text)\n",
    "    #remove special characters (punctuation)\n",
    "    text = re.sub('[' + punctuation + ']+', ' ', text)\n",
    "     # remove double spacing\n",
    "    text = re.sub('\\s+', ' ', text)  \n",
    "    #remove enlish words\n",
    "    text = re.sub(r'[A-Za-z]','',text)\n",
    "    #remove numbers \n",
    "    text = re.sub(r'[0-9]+','',text)\n",
    "    return text "
   ]
  },
  {
   "cell_type": "code",
   "execution_count": 27,
   "metadata": {},
   "outputs": [],
   "source": [
    "fully_cleaned_df.text  = fully_cleaned_df.text.apply(preprocessing,punctuation) "
   ]
  },
  {
   "cell_type": "code",
   "execution_count": 29,
   "metadata": {},
   "outputs": [
    {
     "data": {
      "text/html": [
       "<div>\n",
       "<style scoped>\n",
       "    .dataframe tbody tr th:only-of-type {\n",
       "        vertical-align: middle;\n",
       "    }\n",
       "\n",
       "    .dataframe tbody tr th {\n",
       "        vertical-align: top;\n",
       "    }\n",
       "\n",
       "    .dataframe thead th {\n",
       "        text-align: right;\n",
       "    }\n",
       "</style>\n",
       "<table border=\"1\" class=\"dataframe\">\n",
       "  <thead>\n",
       "    <tr style=\"text-align: right;\">\n",
       "      <th></th>\n",
       "      <th>id</th>\n",
       "      <th>dialect</th>\n",
       "      <th>text</th>\n",
       "      <th>tweet_len</th>\n",
       "    </tr>\n",
       "  </thead>\n",
       "  <tbody>\n",
       "    <tr>\n",
       "      <th>220328</th>\n",
       "      <td>9.544925e+17</td>\n",
       "      <td>YE</td>\n",
       "      <td>من يخرج يعرف الفرق بس البعض حتى لما يخرج بلد اخر اكثر تطور وازدهار مايفهم ولا يقول ليش بلدنا ماهي مثلهم</td>\n",
       "      <td>120</td>\n",
       "    </tr>\n",
       "    <tr>\n",
       "      <th>177803</th>\n",
       "      <td>1.097261e+18</td>\n",
       "      <td>JO</td>\n",
       "      <td>انتي بتحكي بإشي معروف 😜</td>\n",
       "      <td>31</td>\n",
       "    </tr>\n",
       "    <tr>\n",
       "      <th>436539</th>\n",
       "      <td>1.152108e+18</td>\n",
       "      <td>BH</td>\n",
       "      <td>روضة الفايز بالمحرق بس الحين مالها وجود 😥😥</td>\n",
       "      <td>70</td>\n",
       "    </tr>\n",
       "    <tr>\n",
       "      <th>68197</th>\n",
       "      <td>1.140934e+18</td>\n",
       "      <td>QA</td>\n",
       "      <td>للامانه دخلنا مدراس ابتدائيه وإعداديه بنات وأولاد جديده والصفوف غير عن الصورة بس مدراس الطلاب إعدادي وثانوي ماندري ما شفناهم 🤦🏽‍♀️</td>\n",
       "      <td>157</td>\n",
       "    </tr>\n",
       "    <tr>\n",
       "      <th>362572</th>\n",
       "      <td>8.790214e+17</td>\n",
       "      <td>KW</td>\n",
       "      <td>المهنئييين البواب ومرته ورعانهم عطيتهم عيادي 🤣🤣</td>\n",
       "      <td>64</td>\n",
       "    </tr>\n",
       "    <tr>\n",
       "      <th>448628</th>\n",
       "      <td>1.147295e+18</td>\n",
       "      <td>BH</td>\n",
       "      <td>واهني من شاف وجهك من قريييب سامعاً صوتك ومتقهوي وقادع</td>\n",
       "      <td>56</td>\n",
       "    </tr>\n",
       "    <tr>\n",
       "      <th>279451</th>\n",
       "      <td>1.177019e+18</td>\n",
       "      <td>EG</td>\n",
       "      <td>مسخره الواحد تبع من التهزيق فيهم والله 😂😂</td>\n",
       "      <td>71</td>\n",
       "    </tr>\n",
       "    <tr>\n",
       "      <th>142731</th>\n",
       "      <td>7.739372e+17</td>\n",
       "      <td>SY</td>\n",
       "      <td>بعد راح نشوف كثير</td>\n",
       "      <td>26</td>\n",
       "    </tr>\n",
       "    <tr>\n",
       "      <th>67077</th>\n",
       "      <td>8.870504e+17</td>\n",
       "      <td>QA</td>\n",
       "      <td>اخوي محمد يليت تحذف تغريده مهما كان احنا مانرضى هذا ابو الجميع ونعرف طيبته ولاتعودنا نقلل من قدر كبار السن</td>\n",
       "      <td>122</td>\n",
       "    </tr>\n",
       "    <tr>\n",
       "      <th>157444</th>\n",
       "      <td>1.143994e+18</td>\n",
       "      <td>JO</td>\n",
       "      <td>اعمق من كدا مفيش 💔</td>\n",
       "      <td>42</td>\n",
       "    </tr>\n",
       "    <tr>\n",
       "      <th>392181</th>\n",
       "      <td>1.174111e+18</td>\n",
       "      <td>SD</td>\n",
       "      <td>😂 هو الزول صاحب الحساب ده شايل صورتو ومبشع بيهو كده</td>\n",
       "      <td>62</td>\n",
       "    </tr>\n",
       "    <tr>\n",
       "      <th>407786</th>\n",
       "      <td>9.384649e+17</td>\n",
       "      <td>AE</td>\n",
       "      <td>حتى البرنامج راح يفييد نااس كثييييييييييييييييييييييييير</td>\n",
       "      <td>67</td>\n",
       "    </tr>\n",
       "    <tr>\n",
       "      <th>263526</th>\n",
       "      <td>1.174987e+18</td>\n",
       "      <td>EG</td>\n",
       "      <td>فى ماتش انهارده مش مشكلة قالك ماتش كرة غلابة والله اللى فاكرين فى كرة خلاص خلصت زى حاجات كتير انقراض مستمر</td>\n",
       "      <td>110</td>\n",
       "    </tr>\n",
       "    <tr>\n",
       "      <th>86603</th>\n",
       "      <td>8.104304e+17</td>\n",
       "      <td>PL</td>\n",
       "      <td>لا ظريف و الله اذا ما فهمت ان تعليقي كان سخرية ع الشخص نفسه اللي انت منزل عنه فهاي مشكلة اما ردّك هذا تقوله لبنات الشوارع</td>\n",
       "      <td>135</td>\n",
       "    </tr>\n",
       "    <tr>\n",
       "      <th>204668</th>\n",
       "      <td>1.143436e+18</td>\n",
       "      <td>SA</td>\n",
       "      <td>قريتها تمنع 🌚😂🏃🏻‍♀️ واستغربت بس شكله من كثر الهجوم علينا قريتها غلط</td>\n",
       "      <td>91</td>\n",
       "    </tr>\n",
       "  </tbody>\n",
       "</table>\n",
       "</div>"
      ],
      "text/plain": [
       "                  id dialect  \\\n",
       "220328  9.544925e+17      YE   \n",
       "177803  1.097261e+18      JO   \n",
       "436539  1.152108e+18      BH   \n",
       "68197   1.140934e+18      QA   \n",
       "362572  8.790214e+17      KW   \n",
       "448628  1.147295e+18      BH   \n",
       "279451  1.177019e+18      EG   \n",
       "142731  7.739372e+17      SY   \n",
       "67077   8.870504e+17      QA   \n",
       "157444  1.143994e+18      JO   \n",
       "392181  1.174111e+18      SD   \n",
       "407786  9.384649e+17      AE   \n",
       "263526  1.174987e+18      EG   \n",
       "86603   8.104304e+17      PL   \n",
       "204668  1.143436e+18      SA   \n",
       "\n",
       "                                                                                                                                       text  \\\n",
       "220328                              من يخرج يعرف الفرق بس البعض حتى لما يخرج بلد اخر اكثر تطور وازدهار مايفهم ولا يقول ليش بلدنا ماهي مثلهم   \n",
       "177803                                                                                                              انتي بتحكي بإشي معروف 😜   \n",
       "436539                                                                                           روضة الفايز بالمحرق بس الحين مالها وجود 😥😥   \n",
       "68197    للامانه دخلنا مدراس ابتدائيه وإعداديه بنات وأولاد جديده والصفوف غير عن الصورة بس مدراس الطلاب إعدادي وثانوي ماندري ما شفناهم 🤦🏽‍♀️   \n",
       "362572                                                                                      المهنئييين البواب ومرته ورعانهم عطيتهم عيادي 🤣🤣   \n",
       "448628                                                                               واهني من شاف وجهك من قريييب سامعاً صوتك ومتقهوي وقادع    \n",
       "279451                                                                                           مسخره الواحد تبع من التهزيق فيهم والله 😂😂    \n",
       "142731                                                                                                                    بعد راح نشوف كثير   \n",
       "67077                            اخوي محمد يليت تحذف تغريده مهما كان احنا مانرضى هذا ابو الجميع ونعرف طيبته ولاتعودنا نقلل من قدر كبار السن   \n",
       "157444                                                                                                                  اعمق من كدا مفيش 💔    \n",
       "392181                                                                                  😂 هو الزول صاحب الحساب ده شايل صورتو ومبشع بيهو كده   \n",
       "407786                                                                             حتى البرنامج راح يفييد نااس كثييييييييييييييييييييييييير   \n",
       "263526                           فى ماتش انهارده مش مشكلة قالك ماتش كرة غلابة والله اللى فاكرين فى كرة خلاص خلصت زى حاجات كتير انقراض مستمر   \n",
       "86603             لا ظريف و الله اذا ما فهمت ان تعليقي كان سخرية ع الشخص نفسه اللي انت منزل عنه فهاي مشكلة اما ردّك هذا تقوله لبنات الشوارع   \n",
       "204668                                                                  قريتها تمنع 🌚😂🏃🏻‍♀️ واستغربت بس شكله من كثر الهجوم علينا قريتها غلط   \n",
       "\n",
       "        tweet_len  \n",
       "220328        120  \n",
       "177803         31  \n",
       "436539         70  \n",
       "68197         157  \n",
       "362572         64  \n",
       "448628         56  \n",
       "279451         71  \n",
       "142731         26  \n",
       "67077         122  \n",
       "157444         42  \n",
       "392181         62  \n",
       "407786         67  \n",
       "263526        110  \n",
       "86603         135  \n",
       "204668         91  "
      ]
     },
     "execution_count": 29,
     "metadata": {},
     "output_type": "execute_result"
    }
   ],
   "source": [
    "#Check results\n",
    "fully_cleaned_df.sample(15)"
   ]
  },
  {
   "cell_type": "markdown",
   "metadata": {},
   "source": [
    "### step 2 :check duplicates"
   ]
  },
  {
   "cell_type": "code",
   "execution_count": 30,
   "metadata": {},
   "outputs": [
    {
     "data": {
      "text/plain": [
       "0"
      ]
     },
     "execution_count": 30,
     "metadata": {},
     "output_type": "execute_result"
    }
   ],
   "source": [
    "#check duplicates\n",
    "fully_cleaned_df.duplicated().sum()"
   ]
  },
  {
   "cell_type": "markdown",
   "metadata": {},
   "source": [
    "### step 3 : Remove emoji "
   ]
  },
  {
   "cell_type": "code",
   "execution_count": 31,
   "metadata": {},
   "outputs": [],
   "source": [
    "#(https://stackoverflow.com/questions/33404752/removing-emojis-from-a-string-in-python)\n",
    "def deEmojify(text):\n",
    "    regrex_pattern = re.compile(pattern = \"[\"\n",
    "        u\"\\U0001F600-\\U0001F64F\"  # emoticons\n",
    "        u\"\\U0001F300-\\U0001F5FF\"  # symbols & pictographs\n",
    "        u\"\\U0001F680-\\U0001F6FF\"  # transport & map symbols\n",
    "        u\"\\U0001F1E0-\\U0001F1FF\"  # flags (iOS)\n",
    "                           \"]+\", flags = re.UNICODE)\n",
    "    return regrex_pattern.sub(r'',text)"
   ]
  },
  {
   "cell_type": "code",
   "execution_count": 34,
   "metadata": {},
   "outputs": [],
   "source": [
    "fully_cleaned_df.text  = fully_cleaned_df.text.apply(deEmojify)"
   ]
  },
  {
   "cell_type": "code",
   "execution_count": 38,
   "metadata": {},
   "outputs": [
    {
     "data": {
      "text/html": [
       "<div>\n",
       "<style scoped>\n",
       "    .dataframe tbody tr th:only-of-type {\n",
       "        vertical-align: middle;\n",
       "    }\n",
       "\n",
       "    .dataframe tbody tr th {\n",
       "        vertical-align: top;\n",
       "    }\n",
       "\n",
       "    .dataframe thead th {\n",
       "        text-align: right;\n",
       "    }\n",
       "</style>\n",
       "<table border=\"1\" class=\"dataframe\">\n",
       "  <thead>\n",
       "    <tr style=\"text-align: right;\">\n",
       "      <th></th>\n",
       "      <th>id</th>\n",
       "      <th>dialect</th>\n",
       "      <th>text</th>\n",
       "      <th>tweet_len</th>\n",
       "    </tr>\n",
       "  </thead>\n",
       "  <tbody>\n",
       "    <tr>\n",
       "      <th>176070</th>\n",
       "      <td>1.124043e+18</td>\n",
       "      <td>JO</td>\n",
       "      <td>والله العظيم ابطال معروفة اللي يفوز على الليث ياخذ البطولة نهايي كبير الاتحاد التعاون</td>\n",
       "      <td>87</td>\n",
       "    </tr>\n",
       "    <tr>\n",
       "      <th>254772</th>\n",
       "      <td>1.177582e+18</td>\n",
       "      <td>EG</td>\n",
       "      <td>واموت واشوف وشهم شكله ايه ولا بيقولوا لبعض ايه دي الوقتي</td>\n",
       "      <td>83</td>\n",
       "    </tr>\n",
       "    <tr>\n",
       "      <th>39192</th>\n",
       "      <td>1.031718e+18</td>\n",
       "      <td>LY</td>\n",
       "      <td>نسيتك وين نلقالها فتاوي وين انذوح بدموع الايتام</td>\n",
       "      <td>47</td>\n",
       "    </tr>\n",
       "    <tr>\n",
       "      <th>370992</th>\n",
       "      <td>1.047770e+18</td>\n",
       "      <td>KW</td>\n",
       "      <td>اخ عبدالكريم شصار على موضوع الكويتيات المتزوجات غير كويتي بخصوص القرض الاسكاني بداية المجلس وعدتونا والحين ماكو لاحس ولا خبر</td>\n",
       "      <td>142</td>\n",
       "    </tr>\n",
       "    <tr>\n",
       "      <th>191074</th>\n",
       "      <td>9.420831e+17</td>\n",
       "      <td>MA</td>\n",
       "      <td>بغيت نقطع من ممر الراجلين ولكن أنا مزال كنتسنى في الباطو هههه</td>\n",
       "      <td>124</td>\n",
       "    </tr>\n",
       "    <tr>\n",
       "      <th>16908</th>\n",
       "      <td>9.421573e+17</td>\n",
       "      <td>LY</td>\n",
       "      <td>يا حصلتنا في ورفله ويا حصلة ورفله فينا</td>\n",
       "      <td>38</td>\n",
       "    </tr>\n",
       "    <tr>\n",
       "      <th>237927</th>\n",
       "      <td>1.186368e+18</td>\n",
       "      <td>DZ</td>\n",
       "      <td>ايه شفتها نسيت ادا ليلى ولا وحدخرا</td>\n",
       "      <td>71</td>\n",
       "    </tr>\n",
       "    <tr>\n",
       "      <th>140152</th>\n",
       "      <td>1.076080e+18</td>\n",
       "      <td>SY</td>\n",
       "      <td>ما هيك بتنقال بتنقال فوووورررررررييييييييييييه 🤕</td>\n",
       "      <td>61</td>\n",
       "    </tr>\n",
       "    <tr>\n",
       "      <th>51832</th>\n",
       "      <td>1.027795e+18</td>\n",
       "      <td>LY</td>\n",
       "      <td>الف الف مبروك الحلوان بسرعه</td>\n",
       "      <td>50</td>\n",
       "    </tr>\n",
       "    <tr>\n",
       "      <th>397163</th>\n",
       "      <td>8.770464e+17</td>\n",
       "      <td>SD</td>\n",
       "      <td>البت دي امها صينية من عيونها</td>\n",
       "      <td>39</td>\n",
       "    </tr>\n",
       "    <tr>\n",
       "      <th>118417</th>\n",
       "      <td>1.110264e+18</td>\n",
       "      <td>PL</td>\n",
       "      <td>محدا بيحس بهيك ليالي غير اللي عندو أطفال وبيشوف كيف شكلهم لما بيصحوا يصرخوا على صوت القصف حسبنا الله ونعم الوكيل يارب احمي عيلتي واهلي و غزة وشعبها</td>\n",
       "      <td>150</td>\n",
       "    </tr>\n",
       "    <tr>\n",
       "      <th>251014</th>\n",
       "      <td>1.128553e+18</td>\n",
       "      <td>EG</td>\n",
       "      <td>عيب والله حتى في رمضان اتقوا الله بقا قرفتونا حد الغثيان بطلوا تنزلوا تويتات ترحم عليها وهي اصلا مماتتش</td>\n",
       "      <td>146</td>\n",
       "    </tr>\n",
       "    <tr>\n",
       "      <th>212768</th>\n",
       "      <td>1.169325e+18</td>\n",
       "      <td>SA</td>\n",
       "      <td>زي الكاس اللي اخذه النصر</td>\n",
       "      <td>40</td>\n",
       "    </tr>\n",
       "    <tr>\n",
       "      <th>97179</th>\n",
       "      <td>1.125731e+18</td>\n",
       "      <td>PL</td>\n",
       "      <td>طبعا وبحب اقلك انه احيانا كتير البيوت بتتهدم ع اهاليهم دون صاروخ تحذيري وبيتقتل ناس أبرياء ملهمش ذنب الا انهم فلسطينيه انا بحكي من واقع تجربه بيتنا بحرب ٢٠٠٩ تركناه لانه الإحتلال أعلنها منطقه مغلقه عسكريا وللأسف لما رجعنا لقينا بيتنا وذكرياتنا ركام ومعرفناش بيتنا من بيت الجيران</td>\n",
       "      <td>319</td>\n",
       "    </tr>\n",
       "    <tr>\n",
       "      <th>455748</th>\n",
       "      <td>1.066973e+18</td>\n",
       "      <td>BH</td>\n",
       "      <td>ترا يصير يرد بعد يوم الله يرزقج</td>\n",
       "      <td>48</td>\n",
       "    </tr>\n",
       "  </tbody>\n",
       "</table>\n",
       "</div>"
      ],
      "text/plain": [
       "                  id dialect  \\\n",
       "176070  1.124043e+18      JO   \n",
       "254772  1.177582e+18      EG   \n",
       "39192   1.031718e+18      LY   \n",
       "370992  1.047770e+18      KW   \n",
       "191074  9.420831e+17      MA   \n",
       "16908   9.421573e+17      LY   \n",
       "237927  1.186368e+18      DZ   \n",
       "140152  1.076080e+18      SY   \n",
       "51832   1.027795e+18      LY   \n",
       "397163  8.770464e+17      SD   \n",
       "118417  1.110264e+18      PL   \n",
       "251014  1.128553e+18      EG   \n",
       "212768  1.169325e+18      SA   \n",
       "97179   1.125731e+18      PL   \n",
       "455748  1.066973e+18      BH   \n",
       "\n",
       "                                                                                                                                                                                                                                                                                           text  \\\n",
       "176070                                                                                                                                                                                                    والله العظيم ابطال معروفة اللي يفوز على الليث ياخذ البطولة نهايي كبير الاتحاد التعاون   \n",
       "254772                                                                                                                                                                                                                                 واموت واشوف وشهم شكله ايه ولا بيقولوا لبعض ايه دي الوقتي   \n",
       "39192                                                                                                                                                                                                                                           نسيتك وين نلقالها فتاوي وين انذوح بدموع الايتام   \n",
       "370992                                                                                                                                                             اخ عبدالكريم شصار على موضوع الكويتيات المتزوجات غير كويتي بخصوص القرض الاسكاني بداية المجلس وعدتونا والحين ماكو لاحس ولا خبر   \n",
       "191074                                                                                                                                                                                                                           بغيت نقطع من ممر الراجلين ولكن أنا مزال كنتسنى في الباطو هههه    \n",
       "16908                                                                                                                                                                                                                                                    يا حصلتنا في ورفله ويا حصلة ورفله فينا   \n",
       "237927                                                                                                                                                                                                                                                       ايه شفتها نسيت ادا ليلى ولا وحدخرا   \n",
       "140152                                                                                                                                                                                                                                         ما هيك بتنقال بتنقال فوووورررررررييييييييييييه 🤕   \n",
       "51832                                                                                                                                                                                                                                                              الف الف مبروك الحلوان بسرعه    \n",
       "397163                                                                                                                                                                                                                                                             البت دي امها صينية من عيونها   \n",
       "118417                                                                                                                                     محدا بيحس بهيك ليالي غير اللي عندو أطفال وبيشوف كيف شكلهم لما بيصحوا يصرخوا على صوت القصف حسبنا الله ونعم الوكيل يارب احمي عيلتي واهلي و غزة وشعبها    \n",
       "251014                                                                                                                                                                                  عيب والله حتى في رمضان اتقوا الله بقا قرفتونا حد الغثيان بطلوا تنزلوا تويتات ترحم عليها وهي اصلا مماتتش   \n",
       "212768                                                                                                                                                                                                                                                                زي الكاس اللي اخذه النصر    \n",
       "97179    طبعا وبحب اقلك انه احيانا كتير البيوت بتتهدم ع اهاليهم دون صاروخ تحذيري وبيتقتل ناس أبرياء ملهمش ذنب الا انهم فلسطينيه انا بحكي من واقع تجربه بيتنا بحرب ٢٠٠٩ تركناه لانه الإحتلال أعلنها منطقه مغلقه عسكريا وللأسف لما رجعنا لقينا بيتنا وذكرياتنا ركام ومعرفناش بيتنا من بيت الجيران   \n",
       "455748                                                                                                                                                                                                                                                          ترا يصير يرد بعد يوم الله يرزقج   \n",
       "\n",
       "        tweet_len  \n",
       "176070         87  \n",
       "254772         83  \n",
       "39192          47  \n",
       "370992        142  \n",
       "191074        124  \n",
       "16908          38  \n",
       "237927         71  \n",
       "140152         61  \n",
       "51832          50  \n",
       "397163         39  \n",
       "118417        150  \n",
       "251014        146  \n",
       "212768         40  \n",
       "97179         319  \n",
       "455748         48  "
      ]
     },
     "execution_count": 38,
     "metadata": {},
     "output_type": "execute_result"
    }
   ],
   "source": [
    "#check after removing emojis\n",
    "fully_cleaned_df.sample(15) "
   ]
  },
  {
   "cell_type": "markdown",
   "metadata": {},
   "source": [
    "### Step 4 : Stemming text"
   ]
  },
  {
   "cell_type": "code",
   "execution_count": 52,
   "metadata": {},
   "outputs": [
    {
     "data": {
      "text/plain": [
       "'علم'"
      ]
     },
     "execution_count": 52,
     "metadata": {},
     "output_type": "execute_result"
    }
   ],
   "source": [
    "#https://stackoverflow.com/questions/21492480/python-isristemmer-for-arabic-text\n",
    "#https://www.nltk.org/api/nltk.stem.isri.html#module-nltk.stem.isri\n",
    "#test it \n",
    "st = ISRIStemmer()\n",
    "w = 'إعلاميون' \n",
    "st.stem(str(w))"
   ]
  },
  {
   "cell_type": "code",
   "execution_count": 61,
   "metadata": {},
   "outputs": [],
   "source": [
    "#stemming function\n",
    "def stemming(text):\n",
    "    w=[st.stem(i) for i in word_tokenize(text) ]\n",
    "    return \" \".join(w)"
   ]
  },
  {
   "cell_type": "code",
   "execution_count": 66,
   "metadata": {},
   "outputs": [],
   "source": [
    "#apply stemming on text \n",
    "fully_cleaned_df['stem_text'] = fully_cleaned_df.text.apply(stemming)"
   ]
  },
  {
   "cell_type": "code",
   "execution_count": 70,
   "metadata": {},
   "outputs": [
    {
     "data": {
      "text/html": [
       "<div>\n",
       "<style scoped>\n",
       "    .dataframe tbody tr th:only-of-type {\n",
       "        vertical-align: middle;\n",
       "    }\n",
       "\n",
       "    .dataframe tbody tr th {\n",
       "        vertical-align: top;\n",
       "    }\n",
       "\n",
       "    .dataframe thead th {\n",
       "        text-align: right;\n",
       "    }\n",
       "</style>\n",
       "<table border=\"1\" class=\"dataframe\">\n",
       "  <thead>\n",
       "    <tr style=\"text-align: right;\">\n",
       "      <th></th>\n",
       "      <th>id</th>\n",
       "      <th>dialect</th>\n",
       "      <th>text</th>\n",
       "      <th>tweet_len</th>\n",
       "      <th>stem_text</th>\n",
       "    </tr>\n",
       "  </thead>\n",
       "  <tbody>\n",
       "    <tr>\n",
       "      <th>301858</th>\n",
       "      <td>1.079466e+18</td>\n",
       "      <td>EG</td>\n",
       "      <td>ايه ياجدو متكبرناش قوي كده</td>\n",
       "      <td>55</td>\n",
       "      <td>ايه جدو متكبرناش قوي كده</td>\n",
       "    </tr>\n",
       "    <tr>\n",
       "      <th>252488</th>\n",
       "      <td>2.759569e+17</td>\n",
       "      <td>EG</td>\n",
       "      <td>مرابطه فالتحرير لحمايته من دخول الاسلام عيزينه يفضل معبد بوذى</td>\n",
       "      <td>85</td>\n",
       "      <td>ربط فالتحرير لحم من دخل سلم عيز فضل عبد وذى</td>\n",
       "    </tr>\n",
       "    <tr>\n",
       "      <th>331006</th>\n",
       "      <td>8.029353e+17</td>\n",
       "      <td>KW</td>\n",
       "      <td>يوسف الجسمي مبدددع بنفنوف شوق الهادي  مكيااااجي رموش عدسات</td>\n",
       "      <td>114</td>\n",
       "      <td>وسف جسم مبدددع فنف شوق هدي مكيااااجي رمش عدس</td>\n",
       "    </tr>\n",
       "    <tr>\n",
       "      <th>132736</th>\n",
       "      <td>9.287750e+17</td>\n",
       "      <td>SY</td>\n",
       "      <td>دعمتنا من قبل ندعمك اليوم ✋</td>\n",
       "      <td>36</td>\n",
       "      <td>دعم من قبل دعم اليوم ✋</td>\n",
       "    </tr>\n",
       "    <tr>\n",
       "      <th>3082</th>\n",
       "      <td>1.148625e+18</td>\n",
       "      <td>IQ</td>\n",
       "      <td>حياج الله كل الهلا</td>\n",
       "      <td>32</td>\n",
       "      <td>حيج الل كل هلا</td>\n",
       "    </tr>\n",
       "    <tr>\n",
       "      <th>265260</th>\n",
       "      <td>1.133928e+18</td>\n",
       "      <td>EG</td>\n",
       "      <td>حبيبى الغالى عليا بزياده</td>\n",
       "      <td>253</td>\n",
       "      <td>حبيبى غلى علا زيد</td>\n",
       "    </tr>\n",
       "    <tr>\n",
       "      <th>5432</th>\n",
       "      <td>9.327255e+17</td>\n",
       "      <td>IQ</td>\n",
       "      <td>اي والله  ضليت افك الشفرات مافهمت بس كم وحدة</td>\n",
       "      <td>91</td>\n",
       "      <td>اي ولل ضلت افك شفر افهم بس كم وحد</td>\n",
       "    </tr>\n",
       "    <tr>\n",
       "      <th>170996</th>\n",
       "      <td>1.155918e+18</td>\n",
       "      <td>JO</td>\n",
       "      <td>هاي شطارة مش دفعة اسئلة السنوات ✌️</td>\n",
       "      <td>69</td>\n",
       "      <td>هاي شطر مش دفع سئل سنو ✌️</td>\n",
       "    </tr>\n",
       "    <tr>\n",
       "      <th>289342</th>\n",
       "      <td>1.144348e+18</td>\n",
       "      <td>EG</td>\n",
       "      <td>طب مايشوفها ف البيت ولا لازم يفرج الناس ربنا يعافي</td>\n",
       "      <td>66</td>\n",
       "      <td>طب مايشوف ف بيت ولا لزم فرج ناس ربن يعف</td>\n",
       "    </tr>\n",
       "    <tr>\n",
       "      <th>79190</th>\n",
       "      <td>8.804422e+17</td>\n",
       "      <td>QA</td>\n",
       "      <td>له يعز شيوخنا كثر ما عزونا اللهم احفظ اميرنا تميم فلا لنا حياة بدونهنموت ويحيا تميم</td>\n",
       "      <td>92</td>\n",
       "      <td>له يعز شيخ كثر ما عزو لهم حفظ امر تمم فلا لنا حية بدونهنموت ويح تمم</td>\n",
       "    </tr>\n",
       "    <tr>\n",
       "      <th>159401</th>\n",
       "      <td>9.384398e+17</td>\n",
       "      <td>JO</td>\n",
       "      <td>الي رح يشوفو التويت رح يجربو معك اول وحده</td>\n",
       "      <td>54</td>\n",
       "      <td>الي رح شوفو توت رح جربو معك اول وحد</td>\n",
       "    </tr>\n",
       "    <tr>\n",
       "      <th>408867</th>\n",
       "      <td>1.081638e+18</td>\n",
       "      <td>AE</td>\n",
       "      <td>عيب يوم عيال البلاد يهلكون عشان يحصلون باركنات ويمشون لمسافات كبيرة وانتو اخرتها موزعين الباركنات و الـ على ناس ماتسوى الدار لأهلها والمنتخب هذا مابتشله فاشينستا ولا مشهور اللي بيشله جمهوره</td>\n",
       "      <td>215</td>\n",
       "      <td>عيب يوم عيل بلد يهل عشن حصل برك يمش ساف كبر نتو اخر وزع برك و الـ على ناس ماتسوى دار أهل نخب هذا مابتشل فاشينستا ولا شهر الل يشل جمهور</td>\n",
       "    </tr>\n",
       "    <tr>\n",
       "      <th>47671</th>\n",
       "      <td>1.042551e+18</td>\n",
       "      <td>LY</td>\n",
       "      <td>في انه رجل صاحب مبداء وعند كلمته ومش بقباق كيفك ويخدم ع الواقع مش مكملها ع التويتر والفيس وغير هكي انه عندة مؤيدين من جميع شرائح المجتمع الليبي يعني انت من بيسمع لترهاتك</td>\n",
       "      <td>181</td>\n",
       "      <td>في انه رجل صحب بدء عند كلم ومش قبق كيف خدم ع وقع مش كمل ع يتر فيس وغر هكي انه عند ؤيد من جمع شرح جمع ليب يعن انت من سمع لتر</td>\n",
       "    </tr>\n",
       "    <tr>\n",
       "      <th>372615</th>\n",
       "      <td>6.679797e+17</td>\n",
       "      <td>OM</td>\n",
       "      <td>ما اغرد عنكم مال الداخليه</td>\n",
       "      <td>29</td>\n",
       "      <td>ما غرد عنكم مال دخل</td>\n",
       "    </tr>\n",
       "    <tr>\n",
       "      <th>228689</th>\n",
       "      <td>8.598851e+17</td>\n",
       "      <td>DZ</td>\n",
       "      <td>احنا مانقولوش ماتسوطيش ولكن الجزائر أمانة في رقابنا وأذا رحت باش تفوطي✉ أعرف وش تخير🆗 الشخص المناسب  الانتخاب اختيار</td>\n",
       "      <td>147</td>\n",
       "      <td>احن مانقولوش ماتسوطيش ولكن جزر منة في رقب وأذ رحت باش وط✉ عرف وش خير🆗 شخص نسب نخب خير</td>\n",
       "    </tr>\n",
       "  </tbody>\n",
       "</table>\n",
       "</div>"
      ],
      "text/plain": [
       "                  id dialect  \\\n",
       "301858  1.079466e+18      EG   \n",
       "252488  2.759569e+17      EG   \n",
       "331006  8.029353e+17      KW   \n",
       "132736  9.287750e+17      SY   \n",
       "3082    1.148625e+18      IQ   \n",
       "265260  1.133928e+18      EG   \n",
       "5432    9.327255e+17      IQ   \n",
       "170996  1.155918e+18      JO   \n",
       "289342  1.144348e+18      EG   \n",
       "79190   8.804422e+17      QA   \n",
       "159401  9.384398e+17      JO   \n",
       "408867  1.081638e+18      AE   \n",
       "47671   1.042551e+18      LY   \n",
       "372615  6.679797e+17      OM   \n",
       "228689  8.598851e+17      DZ   \n",
       "\n",
       "                                                                                                                                                                                                 text  \\\n",
       "301858                                                                                                                                                                     ايه ياجدو متكبرناش قوي كده   \n",
       "252488                                                                                                                                 مرابطه فالتحرير لحمايته من دخول الاسلام عيزينه يفضل معبد بوذى    \n",
       "331006                                                                                                                                    يوسف الجسمي مبدددع بنفنوف شوق الهادي  مكيااااجي رموش عدسات    \n",
       "132736                                                                                                                                                                    دعمتنا من قبل ندعمك اليوم ✋   \n",
       "3082                                                                                                                                                                               حياج الله كل الهلا   \n",
       "265260                                                                                                                                                                       حبيبى الغالى عليا بزياده   \n",
       "5432                                                                                                                                                    اي والله  ضليت افك الشفرات مافهمت بس كم وحدة    \n",
       "170996                                                                                                                                                             هاي شطارة مش دفعة اسئلة السنوات ✌️   \n",
       "289342                                                                                                                                             طب مايشوفها ف البيت ولا لازم يفرج الناس ربنا يعافي   \n",
       "79190                                                                                                             له يعز شيوخنا كثر ما عزونا اللهم احفظ اميرنا تميم فلا لنا حياة بدونهنموت ويحيا تميم   \n",
       "159401                                                                                                                                                      الي رح يشوفو التويت رح يجربو معك اول وحده   \n",
       "408867  عيب يوم عيال البلاد يهلكون عشان يحصلون باركنات ويمشون لمسافات كبيرة وانتو اخرتها موزعين الباركنات و الـ على ناس ماتسوى الدار لأهلها والمنتخب هذا مابتشله فاشينستا ولا مشهور اللي بيشله جمهوره   \n",
       "47671                       في انه رجل صاحب مبداء وعند كلمته ومش بقباق كيفك ويخدم ع الواقع مش مكملها ع التويتر والفيس وغير هكي انه عندة مؤيدين من جميع شرائح المجتمع الليبي يعني انت من بيسمع لترهاتك   \n",
       "372615                                                                                                                                                                      ما اغرد عنكم مال الداخليه   \n",
       "228689                                                                          احنا مانقولوش ماتسوطيش ولكن الجزائر أمانة في رقابنا وأذا رحت باش تفوطي✉ أعرف وش تخير🆗 الشخص المناسب  الانتخاب اختيار    \n",
       "\n",
       "        tweet_len  \\\n",
       "301858         55   \n",
       "252488         85   \n",
       "331006        114   \n",
       "132736         36   \n",
       "3082           32   \n",
       "265260        253   \n",
       "5432           91   \n",
       "170996         69   \n",
       "289342         66   \n",
       "79190          92   \n",
       "159401         54   \n",
       "408867        215   \n",
       "47671         181   \n",
       "372615         29   \n",
       "228689        147   \n",
       "\n",
       "                                                                                                                                     stem_text  \n",
       "301858                                                                                                                ايه جدو متكبرناش قوي كده  \n",
       "252488                                                                                             ربط فالتحرير لحم من دخل سلم عيز فضل عبد وذى  \n",
       "331006                                                                                            وسف جسم مبدددع فنف شوق هدي مكيااااجي رمش عدس  \n",
       "132736                                                                                                                  دعم من قبل دعم اليوم ✋  \n",
       "3082                                                                                                                            حيج الل كل هلا  \n",
       "265260                                                                                                                       حبيبى غلى علا زيد  \n",
       "5432                                                                                                         اي ولل ضلت افك شفر افهم بس كم وحد  \n",
       "170996                                                                                                               هاي شطر مش دفع سئل سنو ✌️  \n",
       "289342                                                                                                 طب مايشوف ف بيت ولا لزم فرج ناس ربن يعف  \n",
       "79190                                                                      له يعز شيخ كثر ما عزو لهم حفظ امر تمم فلا لنا حية بدونهنموت ويح تمم  \n",
       "159401                                                                                                     الي رح شوفو توت رح جربو معك اول وحد  \n",
       "408867  عيب يوم عيل بلد يهل عشن حصل برك يمش ساف كبر نتو اخر وزع برك و الـ على ناس ماتسوى دار أهل نخب هذا مابتشل فاشينستا ولا شهر الل يشل جمهور  \n",
       "47671              في انه رجل صحب بدء عند كلم ومش قبق كيف خدم ع وقع مش كمل ع يتر فيس وغر هكي انه عند ؤيد من جمع شرح جمع ليب يعن انت من سمع لتر  \n",
       "372615                                                                                                                     ما غرد عنكم مال دخل  \n",
       "228689                                                   احن مانقولوش ماتسوطيش ولكن جزر منة في رقب وأذ رحت باش وط✉ عرف وش خير🆗 شخص نسب نخب خير  "
      ]
     },
     "execution_count": 70,
     "metadata": {},
     "output_type": "execute_result"
    }
   ],
   "source": [
    "fully_cleaned_df.sample(15)"
   ]
  },
  {
   "cell_type": "markdown",
   "metadata": {},
   "source": [
    "### Step 5 : Lemmatization \n",
    "I have read that lemmatization(arabic) is more accurate but I didn't find a specific package for it - may need to search more"
   ]
  },
  {
   "cell_type": "markdown",
   "metadata": {},
   "source": [
    "- Remove reduendent charachters like \"إييييييييه\""
   ]
  },
  {
   "cell_type": "markdown",
   "metadata": {},
   "source": [
    "## Save cleaned data "
   ]
  },
  {
   "cell_type": "code",
   "execution_count": 71,
   "metadata": {},
   "outputs": [],
   "source": [
    "#make a new csv file from the merged df\n",
    "fully_cleaned_df.to_excel('cleaned_dialect_dataset.xlsx',encoding = 'utf8')"
   ]
  },
  {
   "cell_type": "markdown",
   "metadata": {},
   "source": [
    "## Exploration cells (you can skip them!)\n",
    "which I use it to test above regax "
   ]
  },
  {
   "cell_type": "code",
   "execution_count": 15,
   "metadata": {},
   "outputs": [
    {
     "data": {
      "text/plain": [
       "458182     يمكن تعرفين بخورة السوق امس او اليوم كانت حاطه فيديو الى بنت لسانها طويل انا بديت رايي في الفيديو ماعجبها كلامي بلكتني شكلها الناس ماتستحمل كلام يعارض فكرها 😅\n",
       "458183                                                                                                           انتي ماشفتي كلمة على صارت ع بس 😅 https://t.co/xQnQ7KjuGv\n",
       "458184                                                                                                                                            وين هالحزه شكلها باجه 😅\n",
       "458185                                                                      ما ادل بالضبط انا سالت وخبروني ورحت ع الوصف لقيته انا ساكن خلف السي تاون اروح له مشي 🚶‍♂️🚶‍♂️\n",
       "458186                                                                                                                                        احنا صاحيين مو نايمين 🙋‍♂️😅\n",
       "458187                                                                           انا ااكلك رز باللحمه والله نسيت اسم المنطقه اللي بيها مطعم اليمن السعيد باخذه عليها 😂😂😂😂\n",
       "458188                                                                                                           يجون يشوفون اللي عندنا حتى باب السياره له ناس تفتح لهم 😅\n",
       "458189                                                                                                                                           مو متعود ع الرومنسية 😂😂😂\n",
       "458190                                                                                                                              عيونك ما ادري شقول فيا بسخليها خليها😅\n",
       "458191                                                                                                                                   اي والله صدق مايعرف يتكلم ويناقش\n",
       "458192                                                                                                                                          مبسوطين منك اللي باسطانا😅\n",
       "458193                                                                                                                                              والله ماينده ابش يختي\n",
       "458194                                                                                                      شو عملنا لك حنا تهربي مننا احنا مساكين ليش بتعملي هيك فينا 😔😔\n",
       "458195                                                                                                                                      الله يبارك فيها وبالعافيه 😋😋😋\n",
       "458196                                                                                                                                     السحله ضيفي ي بتطلع لك سحليه😅😅\n",
       "Name: text, dtype: object"
      ]
     },
     "execution_count": 15,
     "metadata": {},
     "output_type": "execute_result"
    }
   ],
   "source": [
    "#remove mention \n",
    "# fully_cleaned_df.text = fully_cleaned_df.text.apply(lambda x: re.sub(r'@[_?A-Z_?a-z_?0-9_?]+', '', str(x)))\n",
    "# fully_cleaned_df.text.tail(15)"
   ]
  },
  {
   "cell_type": "code",
   "execution_count": 16,
   "metadata": {},
   "outputs": [
    {
     "data": {
      "text/plain": [
       "458182     يمكن تعرفين بخورة السوق امس او اليوم كانت حاطه فيديو الى بنت لسانها طويل انا بديت رايي في الفيديو ماعجبها كلامي بلكتني شكلها الناس ماتستحمل كلام يعارض فكرها 😅\n",
       "458183                                                                                                                                  انتي ماشفتي كلمة على صارت ع بس 😅 \n",
       "458184                                                                                                                                            وين هالحزه شكلها باجه 😅\n",
       "458185                                                                      ما ادل بالضبط انا سالت وخبروني ورحت ع الوصف لقيته انا ساكن خلف السي تاون اروح له مشي 🚶‍♂️🚶‍♂️\n",
       "458186                                                                                                                                        احنا صاحيين مو نايمين 🙋‍♂️😅\n",
       "458187                                                                           انا ااكلك رز باللحمه والله نسيت اسم المنطقه اللي بيها مطعم اليمن السعيد باخذه عليها 😂😂😂😂\n",
       "458188                                                                                                           يجون يشوفون اللي عندنا حتى باب السياره له ناس تفتح لهم 😅\n",
       "458189                                                                                                                                           مو متعود ع الرومنسية 😂😂😂\n",
       "458190                                                                                                                              عيونك ما ادري شقول فيا بسخليها خليها😅\n",
       "458191                                                                                                                                   اي والله صدق مايعرف يتكلم ويناقش\n",
       "458192                                                                                                                                          مبسوطين منك اللي باسطانا😅\n",
       "458193                                                                                                                                              والله ماينده ابش يختي\n",
       "458194                                                                                                      شو عملنا لك حنا تهربي مننا احنا مساكين ليش بتعملي هيك فينا 😔😔\n",
       "458195                                                                                                                                      الله يبارك فيها وبالعافيه 😋😋😋\n",
       "458196                                                                                                                                     السحله ضيفي ي بتطلع لك سحليه😅😅\n",
       "Name: text, dtype: object"
      ]
     },
     "execution_count": 16,
     "metadata": {},
     "output_type": "execute_result"
    }
   ],
   "source": [
    "# #remove links with https\n",
    "# fully_cleaned_df.text = fully_cleaned_df.text.apply(lambda x: re.sub(r\"https?:\\/\\/\\S+\", '', str(x)))\n",
    "# fully_cleaned_df.text.tail(15)"
   ]
  },
  {
   "cell_type": "code",
   "execution_count": 10,
   "metadata": {},
   "outputs": [
    {
     "data": {
      "text/plain": [
       "0                                                                             لكن بالنهاية .. ينتفض .. يغير .\n",
       "1     يعني هذا محسوب على البشر .. حيونه ووحشيه .. وتطلبون من الغرب يحترمكم ويؤمن بدينكم ولاينعتكم بالإرهاب ..\n",
       "2                                                                                         مبين من كلامه خليجي\n",
       "3                                                                                  يسلملي مرورك وروحك الحلوه💐\n",
       "4                                                                                   وين هل الغيبه  اخ محمد 🌸🌺\n",
       "Name: text, dtype: object"
      ]
     },
     "execution_count": 10,
     "metadata": {},
     "output_type": "execute_result"
    }
   ],
   "source": [
    "# fully_cleaned_df.text.head(5)"
   ]
  },
  {
   "cell_type": "code",
   "execution_count": 28,
   "metadata": {},
   "outputs": [
    {
     "data": {
      "text/plain": [
       "id                                                                                                     564832797672484928.0\n",
       "dialect                                                                                                                  BH\n",
       "text       خايف عليك ومنك بالحيل خايف\\nعزي لقلبي يجمع الحب والخوف\\nخليت قلبي والشقاء بك ولايف\\nقلبي عمى وش عاد لو عيني تشوف\n",
       "Name: 447592, dtype: object"
      ]
     },
     "execution_count": 28,
     "metadata": {},
     "output_type": "execute_result"
    }
   ],
   "source": [
    "fully_cleaned_df.iloc[447592]"
   ]
  },
  {
   "cell_type": "code",
   "execution_count": 36,
   "metadata": {},
   "outputs": [
    {
     "data": {
      "text/plain": [
       "id                                                                                                 5.648327976724849e+17\n",
       "dialect                                                                                                               BH\n",
       "text       خايف عليك ومنك بالحيل خايف عزي لقلبي يجمع الحب والخوف خليت قلبي والشقاء بك ولايف قلبي عمى وش عاد لو عيني تشوف\n",
       "Name: 447592, dtype: object"
      ]
     },
     "execution_count": 36,
     "metadata": {},
     "output_type": "execute_result"
    }
   ],
   "source": [
    "# #remove \\n\n",
    "# fully_cleaned_df.iloc[447592].apply(lambda x: re.sub(r\"[\\n?]\", ' ', str(x)))"
   ]
  },
  {
   "cell_type": "code",
   "execution_count": 38,
   "metadata": {},
   "outputs": [
    {
     "data": {
      "text/plain": [
       "id                1175358310087893e+18\n",
       "dialect                             IQ\n",
       "text        لكن بالنهاية  ينتفض  يغير \n",
       "Name: 0, dtype: object"
      ]
     },
     "execution_count": 38,
     "metadata": {},
     "output_type": "execute_result"
    }
   ],
   "source": [
    "# #remove any .\n",
    "# fully_cleaned_df.iloc[0].apply(lambda x: re.sub(r\"[.?]\", '', str(x)))"
   ]
  },
  {
   "cell_type": "code",
   "execution_count": 59,
   "metadata": {},
   "outputs": [
    {
     "data": {
      "text/plain": [
       "id                                                101052896421605e18\n",
       "dialect                                                           MA\n",
       "text       بلجيكا  كون درتو لينا فين نتلهاو كاع منديرو لتونس هكا TUN\n",
       "Name: 182684, dtype: object"
      ]
     },
     "execution_count": 59,
     "metadata": {},
     "output_type": "execute_result"
    }
   ],
   "source": [
    "# #remove special characters\n",
    "# removetable = str.maketrans('', '', string.punctuation)\n",
    "# fully_cleaned_df.iloc[182684].apply(lambda x: str(x).translate(removetable))"
   ]
  },
  {
   "cell_type": "code",
   "execution_count": 63,
   "metadata": {},
   "outputs": [
    {
     "data": {
      "text/plain": [
       "id                                               1.01052896421605+18\n",
       "dialect                                                             \n",
       "text       بلجيكا : كون درتو لينا فين نتلهاو كاع منديرو لتونس هكا. #\n",
       "Name: 182684, dtype: object"
      ]
     },
     "execution_count": 63,
     "metadata": {},
     "output_type": "execute_result"
    }
   ],
   "source": [
    "#remove english words\n",
    "# fully_cleaned_df.iloc[182684].apply(lambda x: re.sub(r'[A-Za-z]','',str(x)))"
   ]
  },
  {
   "cell_type": "code",
   "execution_count": null,
   "metadata": {},
   "outputs": [],
   "source": []
  },
  {
   "cell_type": "code",
   "execution_count": null,
   "metadata": {},
   "outputs": [],
   "source": []
  }
 ],
 "metadata": {
  "interpreter": {
   "hash": "e037289e99bca769955743349a1c2eaf20b887a74565143e2f7fe957e7e3bee4"
  },
  "kernelspec": {
   "display_name": "Python 3.10.1 64-bit",
   "language": "python",
   "name": "python3"
  },
  "language_info": {
   "codemirror_mode": {
    "name": "ipython",
    "version": 3
   },
   "file_extension": ".py",
   "mimetype": "text/x-python",
   "name": "python",
   "nbconvert_exporter": "python",
   "pygments_lexer": "ipython3",
   "version": "3.9.7"
  },
  "orig_nbformat": 4
 },
 "nbformat": 4,
 "nbformat_minor": 2
}
